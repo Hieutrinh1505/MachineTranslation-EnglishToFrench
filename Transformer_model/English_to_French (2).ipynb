{
  "nbformat": 4,
  "nbformat_minor": 0,
  "metadata": {
    "colab": {
      "name": "English_to_French.ipynb",
      "provenance": [],
      "collapsed_sections": [
        "pPQUMhrTMp3j"
      ]
    },
    "kernelspec": {
      "display_name": "Python 3",
      "name": "python3"
    },
    "language_info": {
      "name": "python"
    },
    "accelerator": "GPU"
  },
  "cells": [
    {
      "cell_type": "markdown",
      "metadata": {
        "id": "x6IxY9j8W2yv"
      },
      "source": [
        "# Seq2Seq using Transformers with Attention Mechanism"
      ]
    },
    {
      "cell_type": "code",
      "metadata": {
        "id": "BhHnfqa0YAq0"
      },
      "source": [
        "# !pip install torchtext==0.6.0 --quiet\n",
        "# !pip install -U spacy --quiet\n",
        "# !python -m spacy download en_core_web_trf --quiet\n",
        "# !python -m spacy download fr_dep_news_trf --quiet\n"
      ],
      "execution_count": null,
      "outputs": []
    },
    {
      "cell_type": "code",
      "metadata": {
        "id": "rbrCUR1cpH0E"
      },
      "source": [
        "import torch\n",
        "import torch.nn as nn\n",
        "import torch.optim as optim\n",
        "import spacy\n",
        "import numpy as np\n",
        "\n",
        "# from utils import translate_sentence, bleu, save_checkpoint, load_checkpoint\n",
        "from torch.utils.tensorboard import SummaryWriter\n",
        "# from torchtext.datasets import Multi30k\n",
        "from torchtext.data import Field, BucketIterator, TabularDataset"
      ],
      "execution_count": null,
      "outputs": []
    },
    {
      "cell_type": "markdown",
      "metadata": {
        "id": "paGsGfgSMwGt"
      },
      "source": [
        "# Start processing data using Spacy Tokenizer"
      ]
    },
    {
      "cell_type": "code",
      "metadata": {
        "id": "s3_WyuP0Mbpq"
      },
      "source": [
        "spacy_english = spacy.load('en_core_web_trf')\n",
        "spacy_french = spacy.load('fr_dep_news_trf')"
      ],
      "execution_count": null,
      "outputs": []
    },
    {
      "cell_type": "code",
      "metadata": {
        "id": "9IoD5qrWTrB3"
      },
      "source": [
        "# Function to tokenize sentences\n",
        "def tokenize_french(text):\n",
        "  return [token.text for token in spacy_french.tokenizer(text)]\n",
        "\n",
        "def tokenize_english(text):\n",
        "  return [token.text for token in spacy_english.tokenizer(text)]\n",
        "\n",
        "french = Field(tokenize=tokenize_french, lower=True,\n",
        "               init_token=\"<sos>\", eos_token=\"<eos>\")\n",
        "\n",
        "english = Field(tokenize=tokenize_english, lower=True,\n",
        "               init_token=\"<sos>\", eos_token=\"<eos>\")"
      ],
      "execution_count": null,
      "outputs": []
    },
    {
      "cell_type": "code",
      "metadata": {
        "id": "9ZwtAnIPgKam"
      },
      "source": [
        "FILE_PATH = '/content/drive/MyDrive/Colab Notebooks/English_to_French'\n",
        "\n",
        "fields = {\n",
        "  'English': ('English', english ),\n",
        "  'French': ('French', french)\n",
        "}\n",
        "\n",
        "train_data, valid_data, test_data = TabularDataset.splits(\n",
        "    path= FILE_PATH,\n",
        "    train='train.csv',\n",
        "    validation='valid.csv',\n",
        "    test='test.csv',\n",
        "    format='csv',\n",
        "    fields=fields\n",
        ")"
      ],
      "execution_count": null,
      "outputs": []
    },
    {
      "cell_type": "code",
      "metadata": {
        "id": "sMUx7fi_VIKQ"
      },
      "source": [
        "french.build_vocab(train_data, max_size=10000, min_freq=3)\n",
        "english.build_vocab(train_data, max_size=10000, min_freq=3)"
      ],
      "execution_count": null,
      "outputs": []
    },
    {
      "cell_type": "markdown",
      "metadata": {
        "id": "oyvHDKZLgdaH"
      },
      "source": [
        "# Config"
      ]
    },
    {
      "cell_type": "code",
      "metadata": {
        "id": "PEbl-nMimP0O"
      },
      "source": [
        "device = torch.device(\"cuda\" if torch.cuda.is_available() else \"cpu\")\n",
        "\n",
        "NUM_EPOCHS = 50\n",
        "learning_rate = 3e-4\n",
        "PATIENCE = 5\n",
        "\n",
        "BATCH_SIZE = 32\n",
        "# VALID_BATCH_SIZE = 8\n",
        "EMBEDING_SIZE = 512\n",
        "NUM_HEADS = 8\n",
        "NUM_ENCODER_LAYERS = 3\n",
        "NUM_DECODER_LAYERS = 3\n",
        "DROPOUT= 0.3\n",
        "MAX_LEN = 100\n",
        "FORWARD_EXPANSION = 4\n",
        "SOURCE_PADDING_INDX = english.vocab.stoi[\"<pad>\"]\n",
        "\n",
        "SOURCE_VOCAB_SIZE = len(english.vocab)\n",
        "TARGET_VOCAB_SIZE = len(french.vocab)"
      ],
      "execution_count": null,
      "outputs": []
    },
    {
      "cell_type": "markdown",
      "metadata": {
        "id": "ZFmNCR-XhlxT"
      },
      "source": [
        "# Construct a Transformer architecture"
      ]
    },
    {
      "cell_type": "code",
      "metadata": {
        "id": "_DdeZjMwK-ku"
      },
      "source": [
        "class Transformer(nn.Module):\n",
        "    def __init__(\n",
        "        self,\n",
        "        embedding_size,\n",
        "        src_vocab_size,\n",
        "        trg_vocab_size,\n",
        "        src_pad_idx,\n",
        "        num_heads,\n",
        "        num_encoder_layers,\n",
        "        num_decoder_layers,\n",
        "        forward_expansion,\n",
        "        dropout,\n",
        "        max_len,\n",
        "        device,\n",
        "    ):\n",
        "        super(Transformer, self).__init__()\n",
        "        self.src_word_embedding = nn.Embedding(src_vocab_size, embedding_size)\n",
        "        self.src_position_embedding = nn.Embedding(max_len, embedding_size)\n",
        "        self.trg_word_embedding = nn.Embedding(trg_vocab_size, embedding_size)\n",
        "        self.trg_position_embedding = nn.Embedding(max_len, embedding_size)\n",
        "\n",
        "        self.device = device\n",
        "        self.transformer = nn.Transformer(\n",
        "            embedding_size,\n",
        "            num_heads,\n",
        "            num_encoder_layers,\n",
        "            num_decoder_layers,\n",
        "            forward_expansion,\n",
        "            dropout,\n",
        "        )\n",
        "        self.fc_out = nn.Linear(embedding_size, trg_vocab_size)\n",
        "        self.dropout = nn.Dropout(dropout)\n",
        "        self.src_pad_idx = src_pad_idx\n",
        "\n",
        "    def make_src_mask(self, src):\n",
        "        src_mask = src.transpose(0, 1) == self.src_pad_idx\n",
        "\n",
        "        # (N, src_len)\n",
        "        return src_mask.to(self.device)\n",
        "\n",
        "    def forward(self, src, trg):\n",
        "        src_seq_length, N = src.shape\n",
        "        trg_seq_length, N = trg.shape\n",
        "\n",
        "        src_positions = (\n",
        "            torch.arange(0, src_seq_length)\n",
        "            .unsqueeze(1)\n",
        "            .expand(src_seq_length, N)\n",
        "            .to(self.device)\n",
        "        )\n",
        "\n",
        "        trg_positions = (\n",
        "            torch.arange(0, trg_seq_length)\n",
        "            .unsqueeze(1)\n",
        "            .expand(trg_seq_length, N)\n",
        "            .to(self.device)\n",
        "        )\n",
        "\n",
        "        embed_src = self.dropout(\n",
        "            (self.src_word_embedding(src) + self.src_position_embedding(src_positions))\n",
        "        )\n",
        "        embed_trg = self.dropout(\n",
        "            (self.trg_word_embedding(trg) + self.trg_position_embedding(trg_positions))\n",
        "        )\n",
        "\n",
        "        src_padding_mask = self.make_src_mask(src)\n",
        "        trg_mask = self.transformer.generate_square_subsequent_mask(trg_seq_length).to(\n",
        "            self.device\n",
        "        )\n",
        "\n",
        "        out = self.transformer(\n",
        "            embed_src,\n",
        "            embed_trg,\n",
        "            src_key_padding_mask=src_padding_mask,\n",
        "            tgt_mask=trg_mask,\n",
        "        )\n",
        "        out = self.fc_out(out)\n",
        "        return out\n"
      ],
      "execution_count": null,
      "outputs": []
    },
    {
      "cell_type": "markdown",
      "metadata": {
        "id": "mIN80L9Mts66"
      },
      "source": [
        "#Setting up before traning"
      ]
    },
    {
      "cell_type": "code",
      "metadata": {
        "id": "_wuGLiQDtrtc"
      },
      "source": [
        "# writer = SummaryWriter(\"runs/loss_plot\")\n",
        "# step = 0\n",
        "\n",
        "train_loader, valid_loader, test_loader = BucketIterator.splits(\n",
        "    (train_data, valid_data, test_data),\n",
        "    batch_size=BATCH_SIZE,\n",
        "    sort_within_batch=True,\n",
        "    sort_key=lambda x: len(x.English),\n",
        "    # sort=False,\n",
        "    device=device,\n",
        ")\n",
        "\n",
        "\n",
        "model = Transformer(\n",
        "    EMBEDING_SIZE,\n",
        "    SOURCE_VOCAB_SIZE,\n",
        "    TARGET_VOCAB_SIZE,\n",
        "    SOURCE_PADDING_INDX,\n",
        "    NUM_HEADS,\n",
        "    NUM_ENCODER_LAYERS,\n",
        "    NUM_DECODER_LAYERS,\n",
        "    FORWARD_EXPANSION,\n",
        "    DROPOUT,\n",
        "    MAX_LEN,\n",
        "    device,\n",
        ").to(device)\n",
        "\n",
        "optimizer = optim.AdamW(model.parameters(), lr=learning_rate)\n",
        "\n",
        "scheduler = torch.optim.lr_scheduler.ReduceLROnPlateau(\n",
        "    optimizer, factor=0.1, patience=PATIENCE, verbose=True\n",
        ")\n",
        "\n",
        "criterion = nn.CrossEntropyLoss(ignore_index=SOURCE_PADDING_INDX)"
      ],
      "execution_count": null,
      "outputs": []
    },
    {
      "cell_type": "markdown",
      "metadata": {
        "id": "SfCwvy2A0aRu"
      },
      "source": [
        "# Training and validating"
      ]
    },
    {
      "cell_type": "markdown",
      "metadata": {
        "id": "XGVNpLtE8MuL"
      },
      "source": [
        "### Here we implement a class called EarlyStopping to store the checkpoint which has best train & valid loss. In addition, it would decrease the chance our model to be overfittiing by using the early stopping mechanism."
      ]
    },
    {
      "cell_type": "code",
      "metadata": {
        "id": "FWWikqk5jQUI"
      },
      "source": [
        "import numpy as np\n",
        "import torch\n",
        "\n",
        "class EarlyStopping:\n",
        "    \"\"\"Early stops the training if validation loss doesn't improve after a given patience.\"\"\"\n",
        "    def __init__(self, patience=10, verbose=False, delta=0, path='checkpoint.pt', trace_func=print):\n",
        "        \"\"\"\n",
        "        Args:\n",
        "            patience (int): How long to wait after last time validation loss improved.\n",
        "                            Default: 10\n",
        "            verbose (bool): If True, prints a message for each validation loss improvement. \n",
        "                            Default: False\n",
        "            delta (float): Minimum change in the monitored quantity to qualify as an improvement.\n",
        "                            Default: 0\n",
        "            path (str): Path for the checkpoint to be saved to.\n",
        "                            Default: 'checkpoint.pt'\n",
        "            trace_func (function): trace print function.\n",
        "                            Default: print            \n",
        "        \"\"\"\n",
        "        self.patience = patience\n",
        "        self.verbose = verbose\n",
        "        self.counter = 0\n",
        "        self.best_score = None\n",
        "        self.early_stop = False\n",
        "        self.val_loss_min = np.Inf\n",
        "        self.delta = delta\n",
        "        self.path = path\n",
        "        self.trace_func = trace_func\n",
        "    def __call__(self, val_loss, model):\n",
        "\n",
        "        score = -val_loss\n",
        "\n",
        "        if self.best_score is None:\n",
        "            self.best_score = score\n",
        "            self.save_checkpoint(val_loss, model)\n",
        "        elif score < self.best_score + self.delta:\n",
        "            self.counter += 1\n",
        "            self.trace_func(f'EarlyStopping counter: {self.counter} out of {self.patience}')\n",
        "            if self.counter >= self.patience:\n",
        "                self.early_stop = True\n",
        "        else:\n",
        "            self.best_score = score\n",
        "            self.save_checkpoint(val_loss, model)\n",
        "            self.counter = 0\n",
        "\n",
        "    def save_checkpoint(self, val_loss, model):\n",
        "        '''Saves model when validation loss decrease.'''\n",
        "        if self.verbose:\n",
        "            self.trace_func(f'Validation loss decreased ({self.val_loss_min:.6f} --> {val_loss:.6f}).  Saving model ...')\n",
        "        torch.save({\n",
        "                'epoch': epoch,\n",
        "                'model_state_dict': model.state_dict(),\n",
        "                'optimizer_state_dict': optimizer.state_dict(),\n",
        "                'scheduler_state_dict': scheduler.state_dict(),\n",
        "                ''\n",
        "                'avg_train_losses': avg_train_losses,\n",
        "                'avg_valid_losses': avg_valid_losses,\n",
        "                }, self.path)\n",
        "        self.val_loss_min = val_loss"
      ],
      "execution_count": null,
      "outputs": []
    },
    {
      "cell_type": "code",
      "metadata": {
        "colab": {
          "base_uri": "https://localhost:8080/"
        },
        "id": "RqqPE2is0zso",
        "outputId": "d68d9457-63a6-44ae-b4ce-63d6ea9bf54c"
      },
      "source": [
        "import os\n",
        "\n",
        "load_model = True\n",
        "train_model = False\n",
        "checkpoint_path = '/content/drive/MyDrive/Colab Notebooks/English_to_French/transfomers-checkpoint_adam.pt'\n",
        "epoch_len = len(str(NUM_EPOCHS))\n",
        "\n",
        "start_epoch = 1\n",
        "last_epoch = 0\n",
        "# to track the training loss as the model trains\n",
        "train_losses = []\n",
        "# to track the validation loss as the model trains\n",
        "valid_losses = []\n",
        "# to track the average training loss per epoch as the model trains\n",
        "avg_train_losses = []\n",
        "# to track the average validation loss per epoch as the model trains\n",
        "avg_valid_losses = [] \n",
        "\n",
        "early_stopping = EarlyStopping(patience=PATIENCE,\n",
        "                               verbose=True,\n",
        "                               path=checkpoint_path)\n",
        "\n",
        "if load_model:\n",
        "    if not os.path.isfile(checkpoint_path):\n",
        "        print(f\"Not found the model checkpoint. Please check if the checkpoint's name is correct.\")\n",
        "        raise SystemExit\n",
        "    else:\n",
        "        print(f\"Loading checkpoint . . . .\")\n",
        "        \n",
        "        checkpoint = torch.load(checkpoint_path, map_location=device)   \n",
        "        model.load_state_dict(checkpoint['model_state_dict'])\n",
        "        optimizer.load_state_dict(checkpoint['optimizer_state_dict'])\n",
        "        scheduler.load_state_dict(checkpoint['scheduler_state_dict'])\n",
        "        last_epoch = checkpoint['epoch']\n",
        "        avg_train_losses = checkpoint['avg_train_losses']\n",
        "        avg_valid_losses = checkpoint['avg_valid_losses'] \n",
        "\n",
        "        start_epoch = last_epoch + 1\n",
        "\n",
        "        print(f\"Checkpoint is successfully loaded . . . .\")\n",
        "        print(f'Last Epoch - {last_epoch:>{epoch_len}} / {NUM_EPOCHS:>{epoch_len}}')\n",
        "        print(f'train_loss: {avg_train_losses[-1]:.5f} ' + f'valid_loss: {avg_valid_losses[-1]:.5f}')\n",
        "    \n",
        "\n",
        "if train_model:\n",
        "    for epoch in range(start_epoch, NUM_EPOCHS + 1):\n",
        "        \n",
        "        print(f'Epoch - {epoch:>{epoch_len}} / {NUM_EPOCHS:>{epoch_len}}')\n",
        "        \n",
        "        ###################\n",
        "        # train the model #\n",
        "        ###################\n",
        "        model.train() # prep model for training\n",
        "        for batch_indx, batch in enumerate(train_loader):\n",
        "            source_sentence = batch.English.to(device)\n",
        "            target_sentence = batch.French.to(device)\n",
        "\n",
        "            # clear the gradients of all optimized variables\n",
        "            optimizer.zero_grad()\n",
        "            # forward pass: compute predicted outputs by passing inputs to the model\n",
        "            output = model(source_sentence, target_sentence[:-1, :])\n",
        "            output = output.reshape(-1, output.shape[2])\n",
        "            target_sentence = target_sentence[1:].reshape(-1)\n",
        "\n",
        "            # calculate the loss\n",
        "            loss = criterion(output, target_sentence)\n",
        "            # backward pass: compute gradient of the loss with respect to model parameters\n",
        "            loss.backward()\n",
        "            torch.nn.utils.clip_grad_norm_(model.parameters(), max_norm=1)\n",
        "            # perform a single optimization step (parameter update)\n",
        "            optimizer.step()\n",
        "            # record training loss\n",
        "            train_losses.append(loss.item())\n",
        "\n",
        "        \n",
        "        ######################    \n",
        "        # validate the model #\n",
        "        ######################\n",
        "        model.eval() # prep model for evaluation\n",
        "        for batch in valid_loader:\n",
        "            source_sentence = batch.English.to(device)\n",
        "            target_sentence = batch.French.to(device)\n",
        "            # forward pass: compute predicted outputs by passing inputs to the model\n",
        "            output = model(source_sentence, target_sentence[:-1, :])\n",
        "            output = output.reshape(-1, output.shape[2])\n",
        "            target_sentence = target_sentence[1:].reshape(-1)\n",
        "            # calculate the loss\n",
        "            loss = criterion(output, target_sentence)\n",
        "            # record validation loss\n",
        "            valid_losses.append(loss.item())\n",
        "\n",
        "        # calculate average loss over an epoch\n",
        "        train_loss = np.average(train_losses)\n",
        "        valid_loss = np.average(valid_losses)\n",
        "        avg_train_losses.append(train_loss)\n",
        "        avg_valid_losses.append(valid_loss)\n",
        "        \n",
        "        # Update the scheduler after validate\n",
        "        scheduler.step(valid_loss)\n",
        "        \n",
        "        print_msg = ( f'train_loss: {train_loss:.5f} ' +\n",
        "                    f'valid_loss: {valid_loss:.5f}')\n",
        "        \n",
        "        print(print_msg)\n",
        "        \n",
        "        # clear lists to track next epoch\n",
        "        train_losses = []\n",
        "        valid_losses = []\n",
        "\n",
        "        # early_stopping needs the validation loss to check if it has decresed, \n",
        "        # and if it has, it will make a checkpoint of the current model\n",
        "        early_stopping(valid_loss, model)\n",
        "\n",
        "        if early_stopping.early_stop:\n",
        "            print(\"Early stopping\")\n",
        "            break\n"
      ],
      "execution_count": null,
      "outputs": [
        {
          "output_type": "stream",
          "text": [
            "Loading checkpoint . . . .\n",
            "Checkpoint is successfully loaded . . . .\n",
            "Last Epoch - 34 / 50\n",
            "train_loss: 0.73101 valid_loss: 0.86001\n"
          ],
          "name": "stdout"
        }
      ]
    },
    {
      "cell_type": "markdown",
      "metadata": {
        "id": "xvvAWx6cy_9I"
      },
      "source": [
        "# Translate a sentence using the model"
      ]
    },
    {
      "cell_type": "code",
      "metadata": {
        "id": "FlcaxJqizE2z",
        "colab": {
          "base_uri": "https://localhost:8080/"
        },
        "outputId": "4fc5843a-dc81-450d-a079-a0dd5a87f42f"
      },
      "source": [
        "import json\n",
        "\n",
        "english_sentences = []\n",
        "origin_target_sentence = []\n",
        "translated_sentences = []\n",
        "\n",
        "print(\"Start translating . . . .\")\n",
        "\n",
        "model.eval() # prep model for evaluation\n",
        "for indx, batch in enumerate(test_loader):\n",
        "    source_sentence = batch.English.to(device)\n",
        "    target_sentence = batch.French.to(device)\n",
        "\n",
        "    # forward pass: compute predicted outputs by passing inputs to the model\n",
        "    output = model(source_sentence, target_sentence[:-1, :])\n",
        "\n",
        "    # source_sentence shape [max sentence length in batch, batch size] (batch_size = 32)\n",
        "    # source_indx shape [batch size, max sentence length in batch]\n",
        "    source_indx = torch.transpose(source_sentence, 0, 1)\n",
        "\n",
        "    # output shape [max sentence length in batch, batch size, embedding size/vocab size]\n",
        "    output_indx = torch.argmax(output, dim=2)\n",
        "\n",
        "    # output indx shape [max sentence length in batch, batch size]\n",
        "    output_indx = torch.transpose(output_indx, 0, 1)\n",
        "\n",
        "    # target_indx shape [batch size, max sentence length in batch]\n",
        "    target_indx = torch.transpose(target_sentence, 0, 1)\n",
        "\n",
        "    # Creating a list of source sentences\n",
        "    for item in source_indx:\n",
        "        sentence = []\n",
        "        temp = [english.vocab.itos[indx] for indx in item]\n",
        "        for token in temp:\n",
        "            if token == '<sos>':\n",
        "                continue\n",
        "            elif token == '<eos>':\n",
        "                break\n",
        "            sentence.append(token)\n",
        "        english_sentences.append(sentence)\n",
        "\n",
        "    # Creating a list of target sentences\n",
        "    for item in target_indx:\n",
        "        sentence = []\n",
        "        temp = [french.vocab.itos[indx] for indx in item]\n",
        "        for token in temp:\n",
        "            if token == '<sos>':\n",
        "                continue\n",
        "            elif token == '<eos>':\n",
        "                break\n",
        "            sentence.append(token)\n",
        "        origin_target_sentence.append(sentence)\n",
        "\n",
        "    # Creating a list of translation sentences\n",
        "    for item in output_indx:\n",
        "        sentence = []\n",
        "        temp = [french.vocab.itos[indx] for indx in item]\n",
        "        for token in temp:\n",
        "            if token == '<eos>':\n",
        "                break\n",
        "            sentence.append(token)\n",
        "        translated_sentences.append(sentence)\n",
        "\n",
        "print(\"Finish translation . . . .\")\n",
        "\n",
        "\n",
        "result_dict = {\"references\": origin_target_sentence,\n",
        "               \"candidate\": translated_sentences,}\n",
        "\n",
        "with open('/content/drive/MyDrive/Colab Notebooks/English_to_French/tranformers_adam_translation.txt', 'w') as file:\n",
        "    file.write(json.dumps(result_dict))"
      ],
      "execution_count": null,
      "outputs": [
        {
          "output_type": "stream",
          "text": [
            "Start translating . . . .\n",
            "Finish translation . . . .\n"
          ],
          "name": "stdout"
        }
      ]
    },
    {
      "cell_type": "markdown",
      "metadata": {
        "id": "LPqgFgMUdEdy"
      },
      "source": [
        "### Print a pair of [target, output] sentence."
      ]
    },
    {
      "cell_type": "code",
      "metadata": {
        "colab": {
          "base_uri": "https://localhost:8080/"
        },
        "id": "GFhsgxTHdDDw",
        "outputId": "5f62aae8-bb81-4a0e-f070-08aedb36b7aa"
      },
      "source": [
        "print(\"===============================================\")\n",
        "print(\"First 10 source/target/output sentences\")\n",
        "print(\"===============================================\")\n",
        "\n",
        "for i in range(10):\n",
        "    print(\"Source sentence: \", english_sentences[i])\n",
        "    print(\"Target sentence: \", origin_target_sentence[i])\n",
        "    print(\"Output sentence: \", translated_sentences[i])\n",
        "    print()\n",
        "\n",
        "print(\"===============================================\")\n",
        "print(\"Last 10 source/target/output sentences\")\n",
        "print(\"===============================================\")\n",
        "\n",
        "for i in range(9, 0, -1):\n",
        "    print(\"Source sentence: \", english_sentences[-i])\n",
        "    print(\"Target sentence: \", origin_target_sentence[-i])\n",
        "    print(\"Output sentence: \", translated_sentences[-i])\n",
        "    print()\n"
      ],
      "execution_count": null,
      "outputs": [
        {
          "output_type": "stream",
          "text": [
            "===============================================\n",
            "First 10 source/target/output sentences\n",
            "===============================================\n",
            "Source sentence:  ['they', 'refused', '.']\n",
            "Target sentence:  ['elles', 'ont', 'refusé', '.']\n",
            "Output sentence:  ['elles', 'ont', 'refusé', '.']\n",
            "\n",
            "Source sentence:  ['she', 'cried', '.']\n",
            "Target sentence:  ['elle', 'pleurait', '.']\n",
            "Output sentence:  ['elle', 'pleura', '.']\n",
            "\n",
            "Source sentence:  ['they', 'sweated', '.']\n",
            "Target sentence:  ['elles', 'ont', '<unk>', '.']\n",
            "Output sentence:  ['ils', 'ont', '<unk>', '.']\n",
            "\n",
            "Source sentence:  ['keep', 'quiet', '.']\n",
            "Target sentence:  ['restez', 'tranquilles', '.']\n",
            "Output sentence:  ['restez', 'tranquille', '!']\n",
            "\n",
            "Source sentence:  ['stay', 'calm', '.']\n",
            "Target sentence:  ['reste', 'calme', '.']\n",
            "Output sentence:  ['reste', 'calme', '.']\n",
            "\n",
            "Source sentence:  ['check', 'this', '.']\n",
            "Target sentence:  ['vérifie', 'ça', '.']\n",
            "Output sentence:  ['vérifie', 'ça', '.']\n",
            "\n",
            "Source sentence:  ['everybody', 'waited', '.']\n",
            "Target sentence:  ['tout', 'le', 'monde', 'a', 'attendu', '.']\n",
            "Output sentence:  ['tout', 'le', 'monde', 'attendit', 'attendu', '.']\n",
            "\n",
            "Source sentence:  ['seize', 'him', '!']\n",
            "Target sentence:  ['attrapez', '-', 'le', '\\xa0', '!']\n",
            "Output sentence:  ['attrapez', '-', 'le', '\\u202f', '!']\n",
            "\n",
            "Source sentence:  ['be', 'nice', '.']\n",
            "Target sentence:  ['soyez', 'gentille', '!']\n",
            "Output sentence:  ['soyez', 'gentil', '!']\n",
            "\n",
            "Source sentence:  ['come', 'early', '.']\n",
            "Target sentence:  ['viens', 'tôt', '.']\n",
            "Output sentence:  ['venez', 'tôt', '.']\n",
            "\n",
            "===============================================\n",
            "Last 10 source/target/output sentences\n",
            "===============================================\n",
            "Source sentence:  ['someone', 'told', 'me', 'that', '<unk>', 'einstein', 'said', ',', '\"', 'common', 'sense', 'is', 'the', 'collection', 'of', '<unk>', 'acquired', 'by', 'age', 'eighteen', '.', '\"']\n",
            "Target sentence:  [\"quelqu'\", 'un', \"m'\", 'a', 'dit', \"qu'\", '<unk>', 'einstein', 'déclara', '\\u202f', ':', '«', '\\xa0', 'le', 'bon', 'sens', 'est', 'la', 'collection', 'des', 'préjugés', 'acquis', 'à', \"l'\", 'âge', 'de', 'dix-huit', 'ans', '.', '\\xa0', '»']\n",
            "Output sentence:  [\"quelqu'\", 'un', \"m'\", 'a', 'dit', 'que', 'einstein', 'einstein', 'dit', ':', ':', '«', '\\xa0', 'je', 'sens', 'sens', 'de', \"l'\", 'collection', 'de', 'années', 'par', 'par', \"l'\", 'âge', \"d'\", \"l'\", 'ans', '.', '\\xa0', '»']\n",
            "\n",
            "Source sentence:  ['if', 'you', 'spend', 'too', 'much', 'time', 'in', 'the', 'sun', 'without', 'putting', 'on', 'sunscreen', ',', 'you', 'are', 'likely', 'to', 'get', 'a', 'sunburn', '.']\n",
            "Target sentence:  ['si', 'on', 'passe', 'trop', 'de', 'temps', 'au', 'soleil', 'sans', 'mettre', 'de', 'crème', 'solaire', ',', 'il', 'est', 'probable', \"qu'\", 'on', 'attrape', 'un', 'coup', 'de', 'soleil', '.']\n",
            "Output sentence:  ['si', 'tu', 'passe', 'trop', 'de', 'temps', 'au', 'soleil', 'sans', 'mettre', 'de', 'crème', 'solaire', ',', 'tu', 'y', 'probable', 'probable', 'il', 'attrape', 'un', 'coup', 'de', 'soleil', '.']\n",
            "\n",
            "Source sentence:  ['i', 'do', \"n't\", 'want', 'to', 'go', 'anywhere', 'today', '.', 'it', \"'s\", 'cold', 'outside', 'and', 'i', 'have', 'to', 'get', 'up', 'early', 'tomorrow', '.']\n",
            "Target sentence:  ['je', 'veux', 'aller', 'nulle', 'part', \"aujourd'hui\", '.', 'il', 'fait', 'froid', 'dehors', 'et', 'je', 'dois', 'me', 'lever', 'tôt', 'demain', '.']\n",
            "Output sentence:  ['je', 'ne', 'aller', 'nulle', 'part', \"aujourd'hui\", ',', 'il', 'fait', 'froid', 'dehors', 'et', 'je', 'dois', 'aller', 'lever', 'demain', 'demain', '.']\n",
            "\n",
            "Source sentence:  ['getting', 'your', 'message', 'across', 'is', 'much', 'more', 'important', 'than', 'trying', 'to', 'say', 'it', 'exactly', 'like', 'a', 'native', 'speaker', 'would', 'say', 'it', '.']\n",
            "Target sentence:  ['<unk>', 'votre', 'message', 'est', 'bien', 'plus', 'important', 'que', \"d'\", 'essayer', 'de', 'le', 'dire', 'exactement', 'comme', 'un', 'locuteur', 'natif', 'le', 'dirait', '.']\n",
            "Output sentence:  ['<unk>', 'votre', 'message', 'à', 'bien', 'plus', 'important', 'que', 'essayer', 'essayer', 'de', 'dire', 'dire', 'exactement', 'comme', 'natif', 'locuteur', 'natif', '.', 'dirait', '.']\n",
            "\n",
            "Source sentence:  ['when', 'i', 'got', 'my', 'driver', \"'s\", 'license', 'renewed', ',', 'i', 'had', 'to', 'decide', 'if', 'i', 'wanted', 'to', 'be', 'an', 'organ', '<unk>', '.']\n",
            "Target sentence:  ['quand', \"j'\", 'ai', 'fait', '<unk>', 'mon', 'permis', 'de', 'conduire', ',', \"j'\", 'ai', 'dû', 'décider', 'si', 'je', 'voulais', 'être', '<unk>', \"d'\", '<unk>', '.']\n",
            "Output sentence:  ['lorsque', \"j'\", 'ai', 'obtenu', 'renouveler', 'de', 'permis', 'de', 'conduire', ',', \"j'\", 'avais', 'dû', 'décider', 'si', 'je', 'voulais', 'être', '<unk>', '.', 'un', '.']\n",
            "\n",
            "Source sentence:  ['i', 'did', \"n't\", 'know', 'the', 'city', ',', 'and', 'what', \"'s\", 'more', ',', 'i', 'could', \"n't\", 'speak', 'a', 'word', 'of', 'the', 'language', '.']\n",
            "Target sentence:  ['je', 'ne', 'connaissais', 'pas', 'la', 'ville', ',', 'et', 'qui', 'plus', 'est', ',', 'je', 'ne', 'savais', 'pas', 'un', 'mot', 'de', 'la', 'langue', '.']\n",
            "Output sentence:  ['je', 'ne', 'connaissais', 'pas', 'la', 'ville', ',', 'et', 'ce', 'est', ',', ',', 'je', 'ne', 'pouvais', 'pas', 'parler', 'mot', '.', 'parole', 'langue', '.']\n",
            "\n",
            "Source sentence:  ['i', 'ca', \"n't\", 'believe', 'that', 'you', 'are', \"n't\", 'at', 'least', 'willing', 'to', 'consider', 'the', 'possibility', 'that', 'there', \"'s\", 'another', 'explanation', '.']\n",
            "Target sentence:  ['je', \"n'\", 'arrive', 'pas', 'à', 'croire', 'que', 'vous', 'ne', 'soyez', 'pas', 'disposé', 'à', 'au', 'moins', 'envisager', 'la', 'possibilité', \"qu'\", 'il', 'y', 'ait', 'une', 'autre', 'explication', '.']\n",
            "Output sentence:  ['je', \"n'\", 'arrive', 'pas', 'à', 'croire', 'que', 'vous', 'ne', 'soyez', 'pas', 'au', 'au', 'moins', 'moins', 'disposées', 'la', 'possibilité', \"qu'\", 'il', 'y', 'ait', 'une', 'autre', 'explication', '.']\n",
            "\n",
            "Source sentence:  ['a', 'few', 'people', 'mentioned', 'they', 'would', 'like', 'to', 'attend', 'some', '<unk>', 'later', 'in', 'the', 'day', 'on', 'the', 'technical', 'session', 'agenda', '.']\n",
            "Target sentence:  ['certaines', 'personnes', 'ont', 'mentionné', \"qu'\", 'elles', 'aimeraient', 'assister', 'à', 'certaines', '<unk>', 'plus', 'tard', 'dans', 'la', 'journée', 'sur', \"l'\", 'ordre', 'du', 'jour', 'des', '<unk>', 'techniques', '.']\n",
            "Output sentence:  ['quelques', 'personnes', 'ont', 'mentionné', \"qu'\", 'ils', 'aimeraient', 'assister', 'à', 'quelques', 'heures', 'plus', 'tard', 'dans', 'la', 'journée', \"d'\", 'la', 'ordre', 'du', 'jour', '.', 'techniques', '.', '.']\n",
            "\n",
            "Source sentence:  ['i', 'wanted', 'to', 'know', 'if', 'you', \"'d\", 'heard', 'anything', 'about', 'what', \"'s\", 'going', 'to', 'be', 'discussed', 'at', 'tomorrow', \"'s\", 'meeting', '.']\n",
            "Target sentence:  ['je', 'voulais', 'savoir', 'si', 'vous', 'aviez', 'entendu', 'quelque', 'chose', 'sur', 'ce', 'qui', 'va', 'être', 'discuté', 'à', 'la', 'réunion', 'de', 'demain', '.']\n",
            "Output sentence:  ['je', 'voulais', 'savoir', 'si', 'tu', 'aviez', 'entendu', 'quoi', 'chose', 'à', 'ce', 'qui', 'va', 'être', 'discuté', 'demain', 'demain', 'réunion', 'demain', 'demain', '.']\n",
            "\n"
          ],
          "name": "stdout"
        }
      ]
    },
    {
      "cell_type": "markdown",
      "metadata": {
        "id": "rrjGRG4D5NQF"
      },
      "source": [
        "# Loading result dictionary. Then, write the dictionary to a text file."
      ]
    },
    {
      "cell_type": "markdown",
      "metadata": {
        "id": "4dL0bUoHaY3q"
      },
      "source": [
        "### Calculating BLEU score for adamW optimizer"
      ]
    },
    {
      "cell_type": "code",
      "metadata": {
        "colab": {
          "base_uri": "https://localhost:8080/"
        },
        "id": "E64sr3Pr5adQ",
        "outputId": "3c413665-6afb-47a1-d4e6-92827aa596c1"
      },
      "source": [
        "from torchtext.data.metrics import bleu_score\n",
        "\n",
        "# Loading the dictionary of adamW optimizer\n",
        "# Load the dictionary and evaluate using Blue score function from torchtext\n",
        "with open('/content/drive/MyDrive/Colab Notebooks/English_to_French/tranformers_adamW_translation.txt', 'r') as file:\n",
        "    data_adamW = file.read()\n",
        "\n",
        "load_dict_adamW = json.loads(data_adamW)\n",
        "\n",
        "candidate_corpus_adamW = load_dict_adamW[\"candidate\"] # translated sentences\n",
        "references_corpus_adamW  = load_dict_adamW[\"references\"] # target sentences\n",
        "\n",
        "result_adamW = bleu_score(candidate_corpus_adamW, references_corpus_adamW)\n",
        "print(f\"Transfomers model using adamW: {result_adamW*100:.2f}\")"
      ],
      "execution_count": null,
      "outputs": [
        {
          "output_type": "stream",
          "text": [
            "Transfomers model using adamW: 62.31\n"
          ],
          "name": "stdout"
        }
      ]
    },
    {
      "cell_type": "markdown",
      "metadata": {
        "id": "NI-mqXrNafmP"
      },
      "source": [
        "### Calculating BLEU score for adam optimizer"
      ]
    },
    {
      "cell_type": "code",
      "metadata": {
        "colab": {
          "base_uri": "https://localhost:8080/"
        },
        "id": "UMeMvaGuCUcD",
        "outputId": "20d374ae-f283-4177-c243-0c1011372174"
      },
      "source": [
        "# Loading the dictionary of adamW optimizer\n",
        "# Load the dictionary and evaluate using Blue score function from torchtext\n",
        "with open('/content/drive/MyDrive/Colab Notebooks/English_to_French/tranformers_adam_translation.txt', 'r') as file:\n",
        "    data_adam = file.read()\n",
        "\n",
        "load_dict_adam = json.loads(data_adam)\n",
        "\n",
        "candidate_corpus_adam = load_dict_adam[\"candidate\"] # translated sentences\n",
        "references_corpus_adam  = load_dict_adam[\"references\"] # target sentences\n",
        "\n",
        "result_adam = bleu_score(candidate_corpus_adam, references_corpus_adam)\n",
        "print(f\"Transfomers model using adam: {result_adam*100:.2f}\")"
      ],
      "execution_count": null,
      "outputs": [
        {
          "output_type": "stream",
          "text": [
            "Transfomers model using adam: 62.15\n"
          ],
          "name": "stdout"
        }
      ]
    },
    {
      "cell_type": "markdown",
      "metadata": {
        "id": "xbDSwzE7d_lO"
      },
      "source": [
        "# Plot the training and validation loss"
      ]
    },
    {
      "cell_type": "code",
      "metadata": {
        "id": "GBP55yQbh65F"
      },
      "source": [
        "import matplotlib.pyplot as plt\n",
        "import numpy as np\n",
        "# Define a function to plot training and validatinon \n",
        "def plot_train_valid_loss(train_losss, valid_loss, num_epoch, title):\n",
        "    epochs = range(1, num_epoch+1)\n",
        "    plt.plot(epochs, train_losss, 'g', label='Training loss')\n",
        "    plt.plot(epochs, valid_loss, 'b', label='Validation loss')\n",
        "    plt.title(title)\n",
        "    plt.xlabel('Epochs')\n",
        "    plt.ylabel('Loss')\n",
        "    plt.legend()\n",
        "    plt.show()"
      ],
      "execution_count": null,
      "outputs": []
    },
    {
      "cell_type": "markdown",
      "metadata": {
        "id": "skIq9Q8TeGAS"
      },
      "source": [
        "### AdamW optimizer"
      ]
    },
    {
      "cell_type": "code",
      "metadata": {
        "colab": {
          "base_uri": "https://localhost:8080/",
          "height": 295
        },
        "id": "KvHFx82PeKLn",
        "outputId": "45ee7d9b-5fc9-4f70-827b-d1a85d803c3c"
      },
      "source": [
        "train_loss_adamW = np.array([3.08814887440639, 2.1067220093026333, 1.772756225835939, 1.582227386660904,\n",
        "                    1.4541211260716442, 1.3588595464041358, 1.2843318116809674, 1.2238066534764371,\n",
        "                    1.1737283017833222, 1.1307437409394183, 1.0933403596462992, 1.0593105730740164,\n",
        "                    1.0313169315698658, 1.0055868736886786, 0.9797598639299513, 0.9587514709605862,\n",
        "                    0.9385353693293657, 0.9201283180279288, 0.9035227638748493, 0.8864100495149733,\n",
        "                    0.8716734431472867, 0.8570570847343819, 0.8439668688395245, 0.832241660169503,\n",
        "                    0.8203949393470761, 0.8098204829190907, 0.7989457808465128, 0.7886194394486635,\n",
        "                    0.7797398456376091, 0.7712856811550465, 0.7622117660185586, 0.7548582451003283,\n",
        "                    0.7471356549424681, 0.7396379926185376, 0.7325266350920384, 0.725799903804474,\n",
        "                    0.719740145131644, 0.712706272949574])\n",
        "\n",
        "valid_loss_adamW = np.array([2.0118256664015557, 1.623118104939035, 1.4700909707498464, 1.3386105956927024,\n",
        "                    1.273852112514725, 1.218844823607113, 1.1708835560984516, 1.1360583596325093,\n",
        "                    1.0907849474031417, 1.074612036537386, 1.0530423307027974, 1.0268231604268643,\n",
        "                    1.0110890035855098, 1.0042263990325788, 0.9879100084956226, 0.964911198789739,\n",
        "                    0.9578541111207833, 0.9481106379318759, 0.9464908309538724, 0.940762226807398,\n",
        "                    0.9277643157484753, 0.915801284743137, 0.9077986401178364, 0.9092145664770095,\n",
        "                    0.8988234662944502, 0.890003707999523, 0.8939221547492432, 0.8846361792912683,\n",
        "                    0.8782152468932348, 0.8803294501886559, 0.8748819897517914, 0.8715776502000395,\n",
        "                    0.8630332873492944, 0.868361811440282, 0.8674212653997383, 0.8598890941325432,\n",
        "                    0.8551069950796867, 0.849012408860177])\n",
        "\n",
        "epoch_adamW = 38\n",
        "\n",
        "plot_train_valid_loss(train_loss_adamW, valid_loss_adamW, epoch_adamW, \"Transformers Model Using AdamW Optimizer\")"
      ],
      "execution_count": null,
      "outputs": [
        {
          "output_type": "display_data",
          "data": {
            "image/png": "[encoded data removed]",
            "text/plain": [
              "<Figure size 432x288 with 1 Axes>"
            ]
          },
          "metadata": {
            "tags": [],
            "needs_background": "light"
          }
        }
      ]
    },
    {
      "cell_type": "markdown",
      "metadata": {
        "id": "frySfwcokuzZ"
      },
      "source": [
        "### Adam optimizer"
      ]
    },
    {
      "cell_type": "code",
      "metadata": {
        "colab": {
          "base_uri": "https://localhost:8080/",
          "height": 295
        },
        "id": "v2krx3Unk0i8",
        "outputId": "7acbbfca-aea9-4032-b55f-30224c8b0e9b"
      },
      "source": [
        "train_loss_adam = np.array([1.0962135185958886, 1.0690176398225641, 1.043760088267114, 1.0205020824545308,\n",
        "                            1.0003859314117354, 0.9822227863044392, 0.9645689216702573, 0.9480710115871931,\n",
        "                            0.9334573440585542, 0.9194889211582269, 0.9058410720002313, 0.8944761936782826,\n",
        "                            0.8818442067998623, 0.871330413264543, 0.8609492647563398, 0.8521961183984753,\n",
        "                            0.8424663936319622, 0.8327269685594176, 0.823565607569237, 0.8170283618183272,\n",
        "                            0.8075449883998165, 0.8005136332953507, 0.7946642099242461, 0.7866703817417264,\n",
        "                            0.7794365143426034, 0.7741362030870519, 0.7674904080236007, 0.7603262320703823,\n",
        "                            0.7569965264695858, 0.7515112436312413, 0.7461843040066692, 0.7401674621259635,\n",
        "                            0.7350247390839735, 0.7310114845995478])\n",
        "\n",
        "valid_loss_adam = np.array([1.0436926481936581, 1.0330715932915553, 1.031011297728846, 1.0213718123340434,\n",
        "                            0.9915881821366607, 0.9870772678778255, 0.9791129194539319, 0.9679939356006559,\n",
        "                            0.9506204568514625, 0.9574136318730526, 0.962746062131093, 0.9557458413646086, \n",
        "                            0.938793063218042, 0.9335522441047571, 0.921588310724182, 0.9191993642157327,\n",
        "                            0.920256038886819, 0.9043399798522664, 0.9130768499087766, 0.9090849306631175,\n",
        "                            0.9086058772761096, 0.89369356876514, 0.8926543751375271, 0.8969004424543329,\n",
        "                            0.8933630391331101, 0.8930071140681893, 0.8937916648192484, 0.8857751890935534,\n",
        "                            0.8806905318153361, 0.8698189085407119, 0.8801705816621554, 0.879402576139933,\n",
        "                            0.8708359818966662, 0.860005702965898])\n",
        "# print(train_loss_adamW.size(), valid_loss_adamW.size())\n",
        "epoch_adam = 34\n",
        "\n",
        "plot_train_valid_loss(train_loss_adam, valid_loss_adam, epoch_adam, \"Transformers Model Using Adam Optimizer\")"
      ],
      "execution_count": null,
      "outputs": [
        {
          "output_type": "display_data",
          "data": {
            "image/png": "[encoded data removed]",
            "text/plain": [
              "<Figure size 432x288 with 1 Axes>"
            ]
          },
          "metadata": {
            "tags": [],
            "needs_background": "light"
          }
        }
      ]
    }
  ]
}