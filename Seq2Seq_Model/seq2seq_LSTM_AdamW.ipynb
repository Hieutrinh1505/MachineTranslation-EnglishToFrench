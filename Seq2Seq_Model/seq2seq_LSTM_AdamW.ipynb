{
  "nbformat": 4,
  "nbformat_minor": 0,
  "metadata": {
    "accelerator": "GPU",
    "colab": {
      "name": "seq2seq_LSTM.ipynb",
      "provenance": [],
      "collapsed_sections": [],
      "toc_visible": true
    },
    "kernelspec": {
      "display_name": "Python 3",
      "name": "python3"
    },
    "language_info": {
      "name": "python"
    }
  },
  "cells": [
    {
      "cell_type": "markdown",
      "metadata": {
        "id": "uzlHtrhgdrJt"
      },
      "source": [
        "# Install and import needed libraries"
      ]
    },
    {
      "cell_type": "markdown",
      "metadata": {
        "id": "AUPpEnnFzlYN"
      },
      "source": [
        ""
      ]
    },
    {
      "cell_type": "code",
      "metadata": {
        "colab": {
          "base_uri": "https://localhost:8080/"
        },
        "id": "yvLEtkEmdkbt",
        "outputId": "ca7eace6-a721-4f9c-eaf8-1d373e43a30f"
      },
      "source": [
        "!pip install torchtext==0.6.0 --quiet\n",
        "!python -m spacy download fr_core_news_sm --quiet"
      ],
      "execution_count": null,
      "outputs": [
        {
          "output_type": "stream",
          "text": [
            "\u001b[K     |████████████████████████████████| 71kB 5.7MB/s \n",
            "\u001b[K     |████████████████████████████████| 1.2MB 11.8MB/s \n",
            "\u001b[K     |████████████████████████████████| 14.7MB 7.7MB/s \n",
            "\u001b[?25h  Building wheel for fr-core-news-sm (setup.py) ... \u001b[?25l\u001b[?25hdone\n",
            "\u001b[38;5;2m✔ Download and installation successful\u001b[0m\n",
            "You can now load the model via spacy.load('fr_core_news_sm')\n"
          ],
          "name": "stdout"
        }
      ]
    },
    {
      "cell_type": "code",
      "metadata": {
        "id": "qSN_dV-TfJBb"
      },
      "source": [
        "import torch\n",
        "import numpy as np\n",
        "import torch.nn as nn\n",
        "import torch.optim as optim\n",
        "from torchtext.data import Field, BucketIterator, TabularDataset\n",
        "import numpy as np\n",
        "import pandas as pd\n",
        "import spacy, random\n",
        "from torch.utils.tensorboard import SummaryWriter\n",
        "from torchtext.data.metrics import bleu_score\n",
        "spacy_french = spacy.load(\"fr_core_news_sm\")\n",
        "spacy_english = spacy.load(\"en_core_web_sm\")"
      ],
      "execution_count": null,
      "outputs": []
    },
    {
      "cell_type": "code",
      "metadata": {
        "id": "j6QiFPWCgD43"
      },
      "source": [
        "def tokenize_french(text):\n",
        "  return [token.text for token in spacy_french.tokenizer(text)]\n",
        "\n",
        "def tokenize_english(text):\n",
        "  return [token.text for token in spacy_english.tokenizer(text)]\n",
        "\n",
        "french = Field(tokenize=tokenize_french, lower=True,\n",
        "               init_token=\"<sos>\", eos_token=\"<eos>\")\n",
        "\n",
        "english = Field(tokenize=tokenize_english, lower=True,\n",
        "               init_token=\"<sos>\", eos_token=\"<eos>\")"
      ],
      "execution_count": null,
      "outputs": []
    },
    {
      "cell_type": "code",
      "metadata": {
        "id": "WqXVo4ZggmlX"
      },
      "source": [
        "fields = {\n",
        "  'English': ('English', english ),\n",
        "  'French': ('French', french)\n",
        "}\n",
        "\n",
        "train_data, valid_data, test_data = TabularDataset.splits(\n",
        "    path='/content/drive/MyDrive/',\n",
        "    train='train.csv',\n",
        "    validation='valid.csv',\n",
        "    test='test.csv',\n",
        "    format='csv',\n",
        "    fields=fields\n",
        "\n",
        ")"
      ],
      "execution_count": null,
      "outputs": []
    },
    {
      "cell_type": "code",
      "metadata": {
        "colab": {
          "base_uri": "https://localhost:8080/"
        },
        "id": "Hm-C7739FnGW",
        "outputId": "b08b505c-7a67-401b-81bc-1993f401567a"
      },
      "source": [
        "from google.colab import drive\n",
        "drive.mount('/content/drive')"
      ],
      "execution_count": 1,
      "outputs": [
        {
          "output_type": "stream",
          "text": [
            "Mounted at /content/drive\n"
          ],
          "name": "stdout"
        }
      ]
    },
    {
      "cell_type": "code",
      "metadata": {
        "id": "y9pNBc4-gyPs"
      },
      "source": [
        "french.build_vocab(train_data, max_size=10000, min_freq=3)\n",
        "english.build_vocab(train_data, max_size=10000, min_freq=3)"
      ],
      "execution_count": null,
      "outputs": []
    },
    {
      "cell_type": "code",
      "metadata": {
        "id": "IIlyjuHazMUc"
      },
      "source": [
        "# count = 0\n",
        "# for data in train_iterator:\n",
        "#   if count < 1 :\n",
        "#     print(\"Shapes\", data.English.shape, data.French.shape)\n",
        "#     print()\n",
        "#     print(\"English - \",*data.English, \" Length - \", len(data.English))\n",
        "#     print()\n",
        "#     print(\"French - \",*data.French, \" Length - \", len(data.French))\n",
        "#     temp_ger = data.English\n",
        "#     temp_eng = data.French\n",
        "#     count += 1"
      ],
      "execution_count": null,
      "outputs": []
    },
    {
      "cell_type": "code",
      "metadata": {
        "id": "yQHLYZcC0a3d"
      },
      "source": [
        "# temp_eng_idx = (temp_eng).cpu().detach().numpy()\n",
        "# temp_ger_idx = (temp_ger).cpu().detach().numpy()"
      ],
      "execution_count": null,
      "outputs": []
    },
    {
      "cell_type": "code",
      "metadata": {
        "id": "bZRCYHryg5k3"
      },
      "source": [
        "class Encoder(nn.Module):\n",
        "    def __init__(self, input_size, embedding_size, hidden_size, num_layers, p):\n",
        "        super(Encoder,self).__init__()\n",
        "        self.hidden_size = hidden_size\n",
        "        self.num_layers = num_layers\n",
        "\n",
        "        self.dropout = nn.Dropout(p)\n",
        "        self.embedding = nn.Embedding(input_size, embedding_size)\n",
        "        self.rnn = nn.LSTM(embedding_size, hidden_size, num_layers, dropout=p)\n",
        "\n",
        "    def forward(self, x):\n",
        "        embedding = self.dropout(self.embedding(x))\n",
        "        outputs, (hidden, cell) = self.rnn(embedding)\n",
        "\n",
        "        return hidden, cell"
      ],
      "execution_count": null,
      "outputs": []
    },
    {
      "cell_type": "code",
      "metadata": {
        "id": "1FcwSry4g7bu"
      },
      "source": [
        "class Decoder(nn.Module):\n",
        "    def __init__(self,input_size, embedding_size, hidden_size, output_size, num_layers, p):\n",
        "        super(Decoder, self).__init__()\n",
        "        self.hidden_size = hidden_size\n",
        "        self.num_layers = num_layers\n",
        "\n",
        "        self.dropout = nn.Dropout(p)\n",
        "        self.embedding = nn.Embedding(input_size, embedding_size)\n",
        "        self.rnn = nn.LSTM(embedding_size, hidden_size, num_layers, dropout=p)\n",
        "        self.fc = nn.Linear(hidden_size, output_size)\n",
        "\n",
        "    def forward(self, x, hidden, cell):\n",
        "        x = x.unsqueeze(0)\n",
        "\n",
        "        embedding = self.dropout(self.embedding(x))\n",
        "\n",
        "        outputs, (hidden, cell) = self.rnn(embedding, (hidden,cell))\n",
        "\n",
        "        predictions = self.fc(outputs)\n",
        "\n",
        "        predictions = predictions.squeeze(0)\n",
        "\n",
        "        return predictions, hidden, cell"
      ],
      "execution_count": null,
      "outputs": []
    },
    {
      "cell_type": "code",
      "metadata": {
        "id": "8rn5clk0g9MF"
      },
      "source": [
        "class Seq2Seq(nn.Module):\n",
        "    def __init__(self,encoder,decoder):\n",
        "        super(Seq2Seq, self).__init__()\n",
        "        self.encoder = encoder\n",
        "        self.decoder = decoder\n",
        "\n",
        "    def forward(self, source, target, teacher_force_ration=0.5):\n",
        "        batch_size = source.shape[1]\n",
        "        target_len = target.shape[0]\n",
        "        target_vocab_size = len(french.vocab)\n",
        "\n",
        "        outputs = torch.zeros(target_len, batch_size, target_vocab_size).to(device)\n",
        "        hidden, cell = self.encoder(source)\n",
        "\n",
        "        x = target[0]\n",
        "\n",
        "        for t in range(1, target_len):\n",
        "            output, hidden, cell = self.decoder(x, hidden, cell)\n",
        "\n",
        "            outputs[t] = output\n",
        "\n",
        "            best_guess = output.argmax(1)\n",
        "\n",
        "            x = target[t] if random.random() < teacher_force_ration else best_guess\n",
        "        return outputs"
      ],
      "execution_count": null,
      "outputs": []
    },
    {
      "cell_type": "markdown",
      "metadata": {
        "id": "q1colLJP9NPW"
      },
      "source": [
        "# Comment out\n"
      ]
    },
    {
      "cell_type": "code",
      "metadata": {
        "id": "EuUVQUXGiU9u"
      },
      "source": [
        "def translate_sentence(model, sentence, english, french, device, max_length=60):\n",
        "    spacy_english = spacy.load(\"en_core_web_sm\")\n",
        "\n",
        "    if type(sentence) == str:\n",
        "        tokens = [token.text.lower() for token in spacy_english(sentence)]\n",
        "    else:\n",
        "        tokens = [token.lower() for token in sentence]\n",
        "    tokens.insert(0, english.init_token)\n",
        "    tokens.append(english.eos_token)\n",
        "    text_to_indices = [english.vocab.stoi[token] for token in tokens]\n",
        "    sentence_tensor = torch.LongTensor(text_to_indices).unsqueeze(1).to(device)\n",
        "\n",
        "    # Build encoder hidden, cell state\n",
        "    with torch.no_grad():\n",
        "        hidden, cell = model.encoder(sentence_tensor)\n",
        "\n",
        "    outputs = [french.vocab.stoi[\"<sos>\"]]\n",
        "\n",
        "    for _ in range(max_length):\n",
        "        previous_word = torch.LongTensor([outputs[-1]]).to(device)\n",
        "\n",
        "        with torch.no_grad():\n",
        "            output, hidden, cell = model.decoder(previous_word, hidden, cell)\n",
        "            best_guess = output.argmax(1).item()\n",
        "\n",
        "        outputs.append(best_guess)\n",
        "\n",
        "        # Model predicts it's the end of the sentence\n",
        "        if output.argmax(1).item() == english.vocab.stoi[\"<eos>\"]:\n",
        "            break\n",
        "\n",
        "    translated_sentence = [french.vocab.itos[idx] for idx in outputs]\n",
        "    return translated_sentence[1:]\n",
        "\n",
        "def bleu(data, model, english, french, device):\n",
        "    targets = []\n",
        "    outputs = []\n",
        "\n",
        "    for example in data:\n",
        "        src = vars(example)[\"English\"]\n",
        "        trg = vars(example)[\"French\"]\n",
        "\n",
        "        prediction = translate_sentence(model, src, english, french, device)\n",
        "        prediction = prediction[:-1]  # remove <eos> token\n",
        "\n",
        "        targets.append([trg])\n",
        "        outputs.append(prediction)\n",
        "    return bleu_score(outputs, targets)\n",
        "    \n",
        "    # weights=(1.0/5.0, 1.0/5.0, 1.0/5.0, 1.0/5.0, 1.0/5.0,)\n",
        "    # return corpus_bleu(outputs, targets,weights)\n",
        "# def checkpoint_and_save(model, best_loss, epoch, optimizer, epoch_loss):\n",
        "#     print('saving')\n",
        "#     print()\n",
        "#     state = {'model': model,'best_loss': best_loss,'epoch': epoch,'rng_state': torch.get_rng_state(), 'optimizer': optimizer.state_dict(),}\n",
        "#     torch.save(state, '/content/checkpoint-NMT')\n",
        "#     torch.save(model.state_dict(),'/content/checkpoint-NMT-SD')\n"
      ],
      "execution_count": null,
      "outputs": []
    },
    {
      "cell_type": "markdown",
      "metadata": {
        "id": "APWNi4BU9Rw3"
      },
      "source": [
        "# Config parameters"
      ]
    },
    {
      "cell_type": "code",
      "metadata": {
        "id": "2HnPEXySiZa7"
      },
      "source": [
        "NUM_EPOCHS = 50\n",
        "learning_rate = 0.001\n",
        "batch_size = 64\n",
        "PATIENCE = 10\n",
        "load_model = False\n",
        "device = torch.device('cuda' if torch.cuda.is_available() else 'cpu')\n",
        "input_size_encoder = len(english.vocab)\n",
        "input_size_decoder = len(french.vocab)\n",
        "output_size = len(french.vocab)\n",
        "encoder_embedding_size = 300\n",
        "decoder_embedding_size = 300\n",
        "hidden_size = 1024\n",
        "num_layers = 2\n",
        "enc_dropout = 0.5\n",
        "dec_dropout = 0.5\n",
        "\n",
        "#TensorBoard\n",
        "# writer = SummaryWriter(f\"runs/loss_plot\")\n",
        "# step = 0\n",
        "\n",
        "train_iterator, valid_iterator, test_iterator = BucketIterator.splits(\n",
        "    (train_data, valid_data, test_data),\n",
        "    batch_size=batch_size,\n",
        "    sort_within_batch = True,\n",
        "    sort_key= lambda x: len(x.English),\n",
        "    device = device\n",
        "\n",
        ")"
      ],
      "execution_count": null,
      "outputs": []
    },
    {
      "cell_type": "code",
      "metadata": {
        "colab": {
          "base_uri": "https://localhost:8080/"
        },
        "id": "p8tr7GsQ1ki7",
        "outputId": "d7f2a300-3218-4a4b-9c63-27a30d8f7348"
      },
      "source": [
        " !pip install transformers"
      ],
      "execution_count": null,
      "outputs": [
        {
          "output_type": "stream",
          "text": [
            "Requirement already satisfied: transformers in /usr/local/lib/python3.7/dist-packages (4.4.2)\n",
            "Requirement already satisfied: importlib-metadata; python_version < \"3.8\" in /usr/local/lib/python3.7/dist-packages (from transformers) (3.8.1)\n",
            "Requirement already satisfied: regex!=2019.12.17 in /usr/local/lib/python3.7/dist-packages (from transformers) (2019.12.20)\n",
            "Requirement already satisfied: requests in /usr/local/lib/python3.7/dist-packages (from transformers) (2.23.0)\n",
            "Requirement already satisfied: tqdm>=4.27 in /usr/local/lib/python3.7/dist-packages (from transformers) (4.41.1)\n",
            "Requirement already satisfied: packaging in /usr/local/lib/python3.7/dist-packages (from transformers) (20.9)\n",
            "Requirement already satisfied: tokenizers<0.11,>=0.10.1 in /usr/local/lib/python3.7/dist-packages (from transformers) (0.10.1)\n",
            "Requirement already satisfied: filelock in /usr/local/lib/python3.7/dist-packages (from transformers) (3.0.12)\n",
            "Requirement already satisfied: sacremoses in /usr/local/lib/python3.7/dist-packages (from transformers) (0.0.43)\n",
            "Requirement already satisfied: numpy>=1.17 in /usr/local/lib/python3.7/dist-packages (from transformers) (1.19.5)\n",
            "Requirement already satisfied: zipp>=0.5 in /usr/local/lib/python3.7/dist-packages (from importlib-metadata; python_version < \"3.8\"->transformers) (3.4.1)\n",
            "Requirement already satisfied: typing-extensions>=3.6.4; python_version < \"3.8\" in /usr/local/lib/python3.7/dist-packages (from importlib-metadata; python_version < \"3.8\"->transformers) (3.7.4.3)\n",
            "Requirement already satisfied: urllib3!=1.25.0,!=1.25.1,<1.26,>=1.21.1 in /usr/local/lib/python3.7/dist-packages (from requests->transformers) (1.24.3)\n",
            "Requirement already satisfied: chardet<4,>=3.0.2 in /usr/local/lib/python3.7/dist-packages (from requests->transformers) (3.0.4)\n",
            "Requirement already satisfied: certifi>=2017.4.17 in /usr/local/lib/python3.7/dist-packages (from requests->transformers) (2020.12.5)\n",
            "Requirement already satisfied: idna<3,>=2.5 in /usr/local/lib/python3.7/dist-packages (from requests->transformers) (2.10)\n",
            "Requirement already satisfied: pyparsing>=2.0.2 in /usr/local/lib/python3.7/dist-packages (from packaging->transformers) (2.4.7)\n",
            "Requirement already satisfied: click in /usr/local/lib/python3.7/dist-packages (from sacremoses->transformers) (7.1.2)\n",
            "Requirement already satisfied: joblib in /usr/local/lib/python3.7/dist-packages (from sacremoses->transformers) (1.0.1)\n",
            "Requirement already satisfied: six in /usr/local/lib/python3.7/dist-packages (from sacremoses->transformers) (1.15.0)\n"
          ],
          "name": "stdout"
        }
      ]
    },
    {
      "cell_type": "code",
      "metadata": {
        "id": "JAsmY4YO62L6"
      },
      "source": [
        ""
      ],
      "execution_count": null,
      "outputs": []
    },
    {
      "cell_type": "code",
      "metadata": {
        "id": "aYGxbUZLknVK"
      },
      "source": [
        "from transformers import AdamW\n",
        "\n",
        "encoder_net = Encoder(input_size_encoder, encoder_embedding_size,\n",
        "                      hidden_size, num_layers, enc_dropout).to(device)\n",
        "\n",
        "decoder_net = Decoder(input_size_decoder, decoder_embedding_size,\n",
        "                      hidden_size, output_size, num_layers, dec_dropout).to(device)\n",
        "\n",
        "model = Seq2Seq(encoder_net, decoder_net).to(device)\n",
        "optimizer = AdamW(model.parameters(), lr=learning_rate)\n",
        "# optimizer = (model.parameters(), lr=learning_rate)\n",
        "\n",
        "pad_idx = english.vocab.stoi['<pad>']\n",
        "criterion = nn.CrossEntropyLoss(ignore_index=pad_idx)\n",
        "\n",
        "scheduler = torch.optim.lr_scheduler.ReduceLROnPlateau(\n",
        "    optimizer, factor=0.1, patience=PATIENCE, verbose=True\n",
        ")\n"
      ],
      "execution_count": null,
      "outputs": []
    },
    {
      "cell_type": "markdown",
      "metadata": {
        "id": "OOaMhLc9sPDG"
      },
      "source": [
        "# Define class EarlyStopping"
      ]
    },
    {
      "cell_type": "code",
      "metadata": {
        "id": "SNQ6tza-sNa2"
      },
      "source": [
        "import numpy as np\n",
        "import torch\n",
        "\n",
        "class EarlyStopping:\n",
        "    \"\"\"Early stops the training if validation loss doesn't improve after a given patience.\"\"\"\n",
        "    def __init__(self, patience=10, verbose=False, delta=0, path='checkpoint.pt', trace_func=print):\n",
        "        \"\"\"\n",
        "        Args:\n",
        "            patience (int): How long to wait after last time validation loss improved.\n",
        "                            Default: 10\n",
        "            verbose (bool): If True, prints a message for each validation loss improvement. \n",
        "                            Default: False\n",
        "            delta (float): Minimum change in the monitored quantity to qualify as an improvement.\n",
        "                            Default: 0\n",
        "            path (str): Path for the checkpoint to be saved to.\n",
        "                            Default: 'checkpoint.pt'\n",
        "            trace_func (function): trace print function.\n",
        "                            Default: print            \n",
        "        \"\"\"\n",
        "        self.patience = patience\n",
        "        self.verbose = verbose\n",
        "        self.counter = 0\n",
        "        self.best_score = None\n",
        "        self.early_stop = False\n",
        "        self.val_loss_min = np.Inf\n",
        "        self.delta = delta\n",
        "        self.path = path\n",
        "        self.trace_func = trace_func\n",
        "    def __call__(self, val_loss, model):\n",
        "\n",
        "        score = -val_loss\n",
        "\n",
        "        if self.best_score is None:\n",
        "            self.best_score = score\n",
        "            self.save_checkpoint(val_loss, model)\n",
        "        elif score < self.best_score + self.delta:\n",
        "            self.counter += 1\n",
        "            self.trace_func(f'EarlyStopping counter: {self.counter} out of {self.patience}')\n",
        "            if self.counter >= self.patience:\n",
        "                self.early_stop = True\n",
        "        else:\n",
        "            self.best_score = score\n",
        "            self.save_checkpoint(val_loss, model)\n",
        "            self.counter = 0\n",
        "\n",
        "    def save_checkpoint(self, val_loss, model):\n",
        "        '''Saves model when validation loss decrease.'''\n",
        "        if self.verbose:\n",
        "            self.trace_func(f'Validation loss decreased ({self.val_loss_min:.6f} --> {val_loss:.6f}).  Saving model ...')\n",
        "        torch.save({\n",
        "                'epoch': epoch,\n",
        "                'model_state_dict': model.state_dict(),\n",
        "                'optimizer_state_dict': optimizer.state_dict(),\n",
        "                'scheduler_state_dict': scheduler.state_dict(),\n",
        "                ''\n",
        "                'avg_train_losses': avg_train_losses,\n",
        "                'avg_valid_losses': avg_valid_losses,\n",
        "                }, self.path)\n",
        "        self.val_loss_min = val_loss"
      ],
      "execution_count": null,
      "outputs": []
    },
    {
      "cell_type": "code",
      "metadata": {
        "id": "R3SjacvSslh4"
      },
      "source": [
        ""
      ],
      "execution_count": null,
      "outputs": []
    },
    {
      "cell_type": "markdown",
      "metadata": {
        "id": "QNfnci5T9qOX"
      },
      "source": [
        "# Start training and validating"
      ]
    },
    {
      "cell_type": "code",
      "metadata": {
        "colab": {
          "base_uri": "https://localhost:8080/"
        },
        "id": "tp9Q2ThHkw29",
        "outputId": "650bd5c6-eebf-466c-f95a-9a055a1385f8"
      },
      "source": [
        "import os\n",
        "\n",
        "load_model = True\n",
        "train_model = False\n",
        "checkpoint_path = '/content/drive/MyDrive/Colab Notebooks/Machine_Translation/seq2seq-checkpoint_adamW.pt'\n",
        "epoch_len = len(str(NUM_EPOCHS))\n",
        "\n",
        "start_epoch = 1\n",
        "# to track the training loss as the model trains\n",
        "train_losses = []\n",
        "# to track the validation loss as the model trains\n",
        "valid_losses = []\n",
        "# to track the average training loss per epoch as the model trains\n",
        "avg_train_losses = []\n",
        "# to track the average validation loss per epoch as the model trains\n",
        "avg_valid_losses = []\n",
        "early_stopping = EarlyStopping(patience=PATIENCE,\n",
        "                               verbose=True,\n",
        "                               path=checkpoint_path)\n",
        "\n",
        "if load_model:\n",
        "    if not os.path.isfile(checkpoint_path):\n",
        "        print(f\"Not found the model checkpoint. Please check if the checkpoint's name is correct.\")\n",
        "        raise SystemExit\n",
        "    else:\n",
        "        print(f\"Loading checkpoint . . . .\")\n",
        "        \n",
        "        checkpoint = torch.load(checkpoint_path)\n",
        "        model.load_state_dict(checkpoint['model_state_dict'])\n",
        "        optimizer.load_state_dict(checkpoint['optimizer_state_dict'])\n",
        "        scheduler.load_state_dict(checkpoint['scheduler_state_dict'])\n",
        "        last_epoch = checkpoint['epoch']\n",
        "        avg_train_losses = checkpoint['avg_train_losses']\n",
        "        avg_valid_losses = checkpoint['avg_valid_losses']\n",
        "\n",
        "        start_epoch = last_epoch + 1\n",
        "\n",
        "        print(f\"Checkpoint is successfully loaded . . . .\")\n",
        "        print(f'Last Epoch - {last_epoch:>{epoch_len}} / {NUM_EPOCHS:>{epoch_len}}')\n",
        "        print(f'train_loss: {avg_train_losses[-1]:.5f} ' + f'valid_loss: {avg_valid_losses[-1]:.5f}')\n",
        "       \n",
        "\n",
        "if train_model:\n",
        "\n",
        "    for epoch in range(start_epoch, NUM_EPOCHS + 1):\n",
        "        print(f'Epoch - {epoch:>{epoch_len}} / {NUM_EPOCHS:>{epoch_len}}')\n",
        "        # model.eval()\n",
        "        # translated_sentence1 = translate_sentence(model, sentence1, german, english, device, max_length=50)\n",
        "        # print(f\"Translated example sentence 1: \\n {translated_sentence1}\")\n",
        "        # ts1.append(translated_sentence1)\n",
        "\n",
        "        model.train()\n",
        "        for batch_idx, batch in enumerate(train_iterator):\n",
        "            input = batch.English.to(device)\n",
        "            target = batch.French.to(device)\n",
        "\n",
        "            # Clear the accumulating gradients\n",
        "            optimizer.zero_grad()\n",
        "\n",
        "            # Pass the input and target for model's forward method\n",
        "            output = model(input, target)\n",
        "            output = output[1:].reshape(-1, output.shape[2])\n",
        "            target = target[1:].reshape(-1)\n",
        "\n",
        "\n",
        "\n",
        "            # Calculate the loss value for every epoch\n",
        "            loss = criterion(output, target)\n",
        "\n",
        "            # Calculate the gradients for weights & biases using back-propagation\n",
        "            loss.backward()\n",
        "\n",
        "            # Clip the gradient value is it exceeds > 1\n",
        "            torch.nn.utils.clip_grad_norm_(model.parameters(), max_norm=1)\n",
        "\n",
        "            # Update the weights values using the gradients we calculated using bp\n",
        "            optimizer.step()\n",
        "\n",
        "            train_losses.append(loss.item())\n",
        "\n",
        "\n",
        "            # epoch_loss += loss.item()\n",
        "            # writer.add_scalar(\"Training loss\", loss, global_step=step)\n",
        "            # step += 1\n",
        "\n",
        "    # train_losses.append(loss.item())\n",
        "        model.eval()\n",
        "        for batch_idx, batch in enumerate(valid_iterator):\n",
        "            input = batch.English.to(device)\n",
        "            target = batch.French.to(device)\n",
        "\n",
        "            # Pass the input and target for model's forward method\n",
        "            output = model(input, target)\n",
        "            output = output[1:].reshape(-1, output.shape[2])\n",
        "            target = target[1:].reshape(-1)\n",
        "            loss = criterion(output, target)\n",
        "            valid_losses.append(loss.item())\n",
        "\n",
        "\n",
        "        train_loss = np.average(train_losses)\n",
        "        valid_loss = np.average(valid_losses)\n",
        "        avg_train_losses.append(train_loss)\n",
        "        avg_valid_losses.append(valid_loss)\n",
        "\n",
        "        scheduler.step(valid_loss)\n",
        "\n",
        "        print_msg = (f'train_loss: {train_loss:.5f} ' +\n",
        "                    f'valid_loss: {valid_loss:.5f}')\n",
        "\n",
        "        print(print_msg)\n",
        "\n",
        "        # clear lists to track next epoch\n",
        "        train_losses = []\n",
        "        valid_losses = []\n",
        "\n",
        "        # early_stopping needs the validation loss to check if it has decresed, \n",
        "        # and if it has, it will make a checkpoint of the current model\n",
        "        early_stopping(valid_loss, model)\n",
        "\n",
        "        if early_stopping.early_stop:\n",
        "            print(\"Early stopping\")\n",
        "            break\n",
        "\n"
      ],
      "execution_count": null,
      "outputs": [
        {
          "output_type": "stream",
          "text": [
            "Loading checkpoint . . . .\n",
            "Checkpoint is successfully loaded . . . .\n",
            "Last Epoch -  7 / 50\n",
            "train_loss: 1.23630 valid_loss: 1.55259\n"
          ],
          "name": "stdout"
        }
      ]
    },
    {
      "cell_type": "code",
      "metadata": {
        "colab": {
          "base_uri": "https://localhost:8080/"
        },
        "id": "AmbRg1S2dZcK",
        "outputId": "fa28cc76-82fa-43c5-cab9-40009f813e54"
      },
      "source": [
        "print(min(avg_train_losses))\n",
        "print(max(avg_train_losses))\n",
        "print(min(avg_valid_losses))\n",
        "print(max(avg_valid_losses))"
      ],
      "execution_count": null,
      "outputs": [
        {
          "output_type": "stream",
          "text": [
            "1.2362950441808354\n",
            "1.7485628305417806\n",
            "1.5525939653136513\n",
            "1.728952101577412\n"
          ],
          "name": "stdout"
        }
      ]
    },
    {
      "cell_type": "code",
      "metadata": {
        "id": "MWozdi_0v0y7",
        "colab": {
          "base_uri": "https://localhost:8080/"
        },
        "outputId": "b03f6532-8c7a-402e-cb2b-00c4e52d4cd0"
      },
      "source": [
        "model.eval()\n",
        "score = bleu(test_data[1:100], model, english, french, device)\n",
        "print(f\"Bleu score {score*100:.2f}\")"
      ],
      "execution_count": null,
      "outputs": [
        {
          "output_type": "stream",
          "text": [
            "Bleu score 49.39\n"
          ],
          "name": "stdout"
        }
      ]
    },
    {
      "cell_type": "code",
      "metadata": {
        "id": "g9A4i1uGxtGN"
      },
      "source": [
        "# # translate_sentence(model, sentence, english, french, device, max_length=60)\n",
        "# from nltk.translate.bleu_score import corpus_bleu"
      ],
      "execution_count": null,
      "outputs": []
    },
    {
      "cell_type": "code",
      "metadata": {
        "id": "zeQMiuqOyN7y"
      },
      "source": [
        "# model.eval()\n",
        "# bleu_sc = [53.00, 52.84, 48.77, 48.24]\n",
        "# for i in range(1500,len(test_data),100):\n",
        "#     print(f\"Running from {i} to {i+99}\")\n",
        "\n",
        "#     score = bleu(test_data[i:(i+99)], model, english, french, device)\n",
        "#     score = score*100\n",
        "#     bleu_sc.append(score)\n",
        "# print(np.average(bleu_sc))"
      ],
      "execution_count": null,
      "outputs": []
    },
    {
      "cell_type": "code",
      "metadata": {
        "id": "tMrxeCMxPbtx"
      },
      "source": [
        "# print(np.average(bleu_sc))\n",
        "# #48.16700897659465"
      ],
      "execution_count": null,
      "outputs": []
    },
    {
      "cell_type": "code",
      "metadata": {
        "id": "DWawix4BDI02"
      },
      "source": [
        "bleu_sc"
      ],
      "execution_count": null,
      "outputs": []
    },
    {
      "cell_type": "code",
      "metadata": {
        "id": "nMve--EtDJiP"
      },
      "source": [
        "import matplotlib.pyplot as plt\n",
        "import numpy as np\n",
        "# Define a function to plot training and validatinon \n",
        "def plot_train_valid_loss(train_losss, valid_loss, num_epoch, title):\n",
        "    epochs = range(1, num_epoch+1)\n",
        "    plt.plot(epochs, train_losss, 'g', label='Training loss')\n",
        "    plt.plot(epochs, valid_loss, 'b', label='Validation loss')\n",
        "    plt.title(title)\n",
        "    plt.xlabel('Epochs')\n",
        "    plt.ylabel('Loss')\n",
        "    plt.legend()\n",
        "    plt.show()"
      ],
      "execution_count": null,
      "outputs": []
    },
    {
      "cell_type": "code",
      "metadata": {
        "colab": {
          "base_uri": "https://localhost:8080/",
          "height": 295
        },
        "id": "MJm6gnchXoBu",
        "outputId": "d21b48dc-1fa1-44d4-a580-a3ac7ca6289a"
      },
      "source": [
        "plot_train_valid_loss(avg_train_losses, avg_valid_losses, 7, \"Seq2Seq Model Using AdamW Optimizer\")"
      ],
      "execution_count": null,
      "outputs": [
        {
          "output_type": "display_data",
          "data": {
            "image/png": "[encoded data removed]",
            "text/plain": [
              "<Figure size 432x288 with 1 Axes>"
            ]
          },
          "metadata": {
            "tags": [],
            "needs_background": "light"
          }
        }
      ]
    },
    {
      "cell_type": "code",
      "metadata": {
        "colab": {
          "base_uri": "https://localhost:8080/",
          "height": 356
        },
        "id": "NDT6tDuZYE7p",
        "outputId": "87315e8b-3551-43da-953c-f703c6162802"
      },
      "source": [
        "models = [\"Seq2Seq_Adam\", \"Seq2Seq_AdamW\", \"Transformers_Adam\", \"Transformers_AdamW\"]\n",
        "values = [49.11, 48.17, 62.15, 62.31]\n",
        "  \n",
        "fig = plt.figure(figsize = (10, 5))\n",
        " \n",
        "# creating the bar plot\n",
        "plt.bar(models, values, color ='blue',\n",
        "        width = 0.4)\n",
        " \n",
        "plt.xlabel(\"Models\", size = 15)\n",
        "plt.ylabel(\"BLEU_score\", size = 15)\n",
        "plt.title(\"BLEU score of different models\")\n",
        "plt.show()"
      ],
      "execution_count": null,
      "outputs": [
        {
          "output_type": "display_data",
          "data": {
            "image/png": "[encoded data removed]",
            "text/plain": [
              "<Figure size 720x360 with 1 Axes>"
            ]
          },
          "metadata": {
            "tags": [],
            "needs_background": "light"
          }
        }
      ]
    },
    {
      "cell_type": "code",
      "metadata": {
        "id": "Um0Qr9nppcxX"
      },
      "source": [
        ""
      ],
      "execution_count": null,
      "outputs": []
    }
  ]
}